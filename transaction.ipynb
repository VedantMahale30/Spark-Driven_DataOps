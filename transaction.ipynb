{
 "cells": [
  {
   "cell_type": "markdown",
   "id": "d83457a0-9b0a-4eb6-aa5a-18a79c6fbf2c",
   "metadata": {},
   "source": [
    "## User Data Transformation"
   ]
  },
  {
   "cell_type": "code",
   "execution_count": 2,
   "id": "8dfb7df3-980e-40be-8e17-2b9c05bc5535",
   "metadata": {},
   "outputs": [],
   "source": [
    "from pyspark.sql import *\n",
    "from pyspark.sql.functions import *\n",
    "from pyspark.sql.types import *"
   ]
  },
  {
   "cell_type": "code",
   "execution_count": 3,
   "id": "08b9b55d-2d58-40a2-aa7b-49ff6d493f1e",
   "metadata": {},
   "outputs": [],
   "source": [
    "spark =SparkSession.builder.appName(\"Name\").getOrCreate()"
   ]
  },
  {
   "cell_type": "code",
   "execution_count": 4,
   "id": "b161422c-9e01-4b72-99ad-625ff82b95b7",
   "metadata": {},
   "outputs": [],
   "source": [
    "user_df = spark.read.format(\"csv\").options(inferSchema=\"true\",header=\"true\")\\\n",
    ".load(\"/C:/Users/vedant.mahale/Pyspark/Transaction_project/users_data.csv\")"
   ]
  },
  {
   "cell_type": "code",
   "execution_count": 5,
   "id": "9af9f5dc-e815-4b9d-869b-269a27309329",
   "metadata": {
    "scrolled": true
   },
   "outputs": [
    {
     "name": "stdout",
     "output_type": "stream",
     "text": [
      "root\n",
      " |-- id: integer (nullable = true)\n",
      " |-- current_age: integer (nullable = true)\n",
      " |-- retirement_age: integer (nullable = true)\n",
      " |-- birth_year: integer (nullable = true)\n",
      " |-- birth_month: integer (nullable = true)\n",
      " |-- gender: string (nullable = true)\n",
      " |-- address: string (nullable = true)\n",
      " |-- latitude: double (nullable = true)\n",
      " |-- longitude: double (nullable = true)\n",
      " |-- per_capita_income: string (nullable = true)\n",
      " |-- yearly_income: string (nullable = true)\n",
      " |-- total_debt: string (nullable = true)\n",
      " |-- credit_score: integer (nullable = true)\n",
      " |-- num_credit_cards: integer (nullable = true)\n",
      "\n"
     ]
    }
   ],
   "source": [
    "user_df.printSchema()"
   ]
  },
  {
   "cell_type": "markdown",
   "id": "dd117db7-fc7e-4740-a542-930c9ae466ba",
   "metadata": {},
   "source": [
    "#### Data Type Conversion:"
   ]
  },
  {
   "cell_type": "code",
   "execution_count": 7,
   "id": "3099f04c-d234-4be8-855a-1b692983cdc8",
   "metadata": {},
   "outputs": [],
   "source": [
    "#Convert per_capita_income, yearly_income, and total_debt fields to numeric formats (e.g., DoubleType) to enable calculations.\n",
    "\n",
    "user_df= user_df.withColumn(\"per_capita_income\",regexp_replace(\"per_capita_income\",\"[$]\",''))\\\n",
    "                    .withColumn(\"yearly_income\",regexp_replace(\"yearly_income\",\"[$]\",''))\\\n",
    "                        .withColumn(\"total_debt\",regexp_replace(\"total_debt\",\"[$]\",''))\n",
    "\n",
    "user_df= user_df.withColumn(\"per_capita_income\",user_df[\"per_capita_income\"].cast(DoubleType()))\\\n",
    "                    .withColumn(\"yearly_income\",user_df[\"yearly_income\"].cast('double'))\\\n",
    "                        .withColumn(\"total_debt\",user_df[\"total_debt\"].cast('double'))\n"
   ]
  },
  {
   "cell_type": "markdown",
   "id": "e5d808b7-9f55-4024-bcaf-42b28102f8a8",
   "metadata": {},
   "source": [
    "#### Date Calculations:"
   ]
  },
  {
   "cell_type": "code",
   "execution_count": 9,
   "id": "4ec5d80e-9b73-4c8e-bcde-a19030e6a111",
   "metadata": {},
   "outputs": [],
   "source": [
    "#Derive age from birth_year and birth_month to ensure consistency with current_age.\n",
    "#Calculate years_until_retirement as retirement_age - current_age.\n",
    "\n",
    "#user_df = user_df.withColumn(\"birth_year_month\",concate(col(\"birth_year\"),\"-\",col(\"birth_month\")))\n",
    "\n",
    "user_df = user_df.withColumn(\"birth_date\", expr(\"birth_year || '-' || birth_month\"))\\\n",
    "                    .withColumn(\"birth_date\",to_date(\"birth_date\"))\n",
    "\n",
    "user_df = user_df.withColumn(\"current_date\",current_date())\n",
    "#two new columns added with name \"current_date\" and \"birth_date\"\n"
   ]
  },
  {
   "cell_type": "code",
   "execution_count": 10,
   "id": "97c0735a-de6b-4004-8856-7de985e1765a",
   "metadata": {},
   "outputs": [],
   "source": [
    "#now creating the column name \"current_new_age\" and deleting the Old \"current_age\" Column\n",
    "\n",
    "user_df = user_df.withColumn(\"current_new_age\",(months_between(col(\"current_date\"),col(\"birth_date\"))/12).cast(\"int\"))\n",
    "\n",
    "user_df = user_df.drop(\"current_age\")"
   ]
  },
  {
   "cell_type": "markdown",
   "id": "c190cf5a-9bb7-4279-a464-5d8ba2f1c7c0",
   "metadata": {},
   "source": [
    "#### Income Aggregation:"
   ]
  },
  {
   "cell_type": "code",
   "execution_count": 12,
   "id": "adfecc2f-1142-4a9e-aabf-2b935c86af86",
   "metadata": {},
   "outputs": [],
   "source": [
    "#Create a debt_to_income_ratio by dividing total_debt by yearly_income.\n",
    "\n",
    "user_df= user_df.withColumn(\"dept_to_income_ration\",round(user_df[\"total_debt\"]/user_df[\"yearly_income\"],2))"
   ]
  },
  {
   "cell_type": "markdown",
   "id": "c91ac286-d365-4294-8d09-2171033f5cb4",
   "metadata": {},
   "source": [
    "#### Geospatial Data Verification:"
   ]
  },
  {
   "cell_type": "code",
   "execution_count": 14,
   "id": "20916f2a-a757-47bf-8cd4-b8e83735d7bc",
   "metadata": {},
   "outputs": [
    {
     "data": {
      "text/plain": [
       "0"
      ]
     },
     "execution_count": 14,
     "metadata": {},
     "output_type": "execute_result"
    }
   ],
   "source": [
    "user_df.filter(user_df.latitude.isNull()).count()"
   ]
  },
  {
   "cell_type": "code",
   "execution_count": 15,
   "id": "f544910a-205c-4c93-a742-1c2f7e7b8ab8",
   "metadata": {},
   "outputs": [],
   "source": [
    "#Verify that latitude and longitude fall within valid ranges; handle invalid entries by filtering or imputing values.\n",
    "#The range for latitude is -90° to 90°, and the range for longitude is -180° to 180°\n",
    "\n",
    "user_df.filter(user_df.latitude.isNull()).count()\n",
    "user_df.filter(user_df.longitude.isNull()).count()\n",
    "\n",
    "user_df = user_df.withColumn(\"latitude\",when((col(\"latitude\") > -90) & (col(\"latitude\") < 90), col(\"latitude\")).otherwise(None))\\\n",
    "                    .withColumn(\"latitude\",when((col(\"latitude\") > -90) & (col(\"latitude\") < 90), col(\"latitude\")).otherwise(None))\n"
   ]
  },
  {
   "cell_type": "code",
   "execution_count": 16,
   "id": "68fd954e-1bb5-4645-b5fb-b97d848c5e53",
   "metadata": {},
   "outputs": [
    {
     "data": {
      "text/plain": [
       "0"
      ]
     },
     "execution_count": 16,
     "metadata": {},
     "output_type": "execute_result"
    }
   ],
   "source": [
    "user_df.filter(user_df.latitude.isNull()).count()\n"
   ]
  },
  {
   "cell_type": "code",
   "execution_count": 17,
   "id": "e1df41fa-0b33-4ed3-b3dd-5eeee952b6a6",
   "metadata": {},
   "outputs": [
    {
     "data": {
      "text/plain": [
       "0"
      ]
     },
     "execution_count": 17,
     "metadata": {},
     "output_type": "execute_result"
    }
   ],
   "source": [
    "user_df.filter(user_df.longitude.isNull()).count()"
   ]
  },
  {
   "cell_type": "markdown",
   "id": "7024f228-16b4-4536-900f-355e2bbcf034",
   "metadata": {},
   "source": [
    "#### Category Standardization:"
   ]
  },
  {
   "cell_type": "code",
   "execution_count": 19,
   "id": "b77b61b0-ab1f-4331-acb0-68880eda467d",
   "metadata": {},
   "outputs": [],
   "source": [
    "#Standardize gender values (e.g., \"M\", \"F\", \"Other\") and handle inconsistent or missing values\n",
    "user_df = user_df.withColumn(\n",
    "    \"gender\",\n",
    "    when(col(\"gender\") == \"Male\", \"M\")\n",
    "    .when(col(\"gender\") == \"Female\", \"F\")\n",
    ")"
   ]
  },
  {
   "cell_type": "markdown",
   "id": "b7555b8e-ff9d-405b-aa89-c01613244f38",
   "metadata": {},
   "source": [
    "#### Credit Score Categorization:"
   ]
  },
  {
   "cell_type": "code",
   "execution_count": 21,
   "id": "82d3a4c1-1738-4a89-af26-dbbc8d20e0e0",
   "metadata": {},
   "outputs": [
    {
     "name": "stdout",
     "output_type": "stream",
     "text": [
      "+----+--------------+----------+-----------+------+--------------------+--------+---------+-----------------+-------------+----------+------------+----------------+----------+------------+---------------+---------------------+----------------------+\n",
      "|  id|retirement_age|birth_year|birth_month|gender|             address|latitude|longitude|per_capita_income|yearly_income|total_debt|credit_score|num_credit_cards|birth_date|current_date|current_new_age|dept_to_income_ration|credit_score_indicator|\n",
      "+----+--------------+----------+-----------+------+--------------------+--------+---------+-----------------+-------------+----------+------------+----------------+----------+------------+---------------+---------------------+----------------------+\n",
      "| 825|            66|      1966|         11|     F|       462 Rose Lane|   34.15|  -117.76|          29278.0|      59696.0|  127613.0|         787|               5|1966-11-01|  2024-11-28|             58|                 2.14|                  Good|\n",
      "|1746|            68|      1966|         12|     F|3606 Federal Boul...|   40.76|   -73.74|          37891.0|      77254.0|  191349.0|         701|               5|1966-12-01|  2024-11-28|             57|                 2.48|                  Fair|\n",
      "+----+--------------+----------+-----------+------+--------------------+--------+---------+-----------------+-------------+----------+------------+----------------+----------+------------+---------------+---------------------+----------------------+\n",
      "only showing top 2 rows\n",
      "\n"
     ]
    }
   ],
   "source": [
    "#Segment credit_score into categories (e.g., “Poor,” “Fair,” “Good”) to facilitate analysis.\n",
    "#For a score with a range between 300 and 850, a credit score of 670 to 739 is considered good. \n",
    "#Credit scores above 740 are very good and above 800 are excellent.\n",
    "\n",
    "\n",
    "user_df = user_df.withColumn(\"credit_score_indicator\",when((col(\"credit_score\").between('670',\"739\")),\"Fair\")\n",
    "                             .when((col(\"credit_score\") >= 740) & (col(\"credit_score\") < 8000),\"Good\" )\n",
    "                             .when((col(\"credit_score\") > 800),\"Excellent\").otherwise(\"Poor\"))\n",
    "\n",
    "user_df.show(2)\n"
   ]
  },
  {
   "cell_type": "code",
   "execution_count": 22,
   "id": "9df44705-87e9-46f7-82ea-898dde8f9bbe",
   "metadata": {},
   "outputs": [],
   "source": [
    "user_df= user_df.withColumnRenamed(\"id\",\"user_id\")"
   ]
  },
  {
   "cell_type": "code",
   "execution_count": null,
   "id": "36c50a6f-776b-4033-a44b-4d0fa9450266",
   "metadata": {},
   "outputs": [],
   "source": []
  },
  {
   "cell_type": "markdown",
   "id": "e732f803-f544-4415-812c-5ecfe2fef48b",
   "metadata": {},
   "source": [
    "## Card Data transformation"
   ]
  },
  {
   "cell_type": "markdown",
   "id": "3583253c-1db8-4722-bcb6-3ba192ba0d61",
   "metadata": {},
   "source": [
    "#### Data Type Conversion:\n"
   ]
  },
  {
   "cell_type": "code",
   "execution_count": 25,
   "id": "3b1226dc-39d0-4872-9cb3-a6e7e240ddd3",
   "metadata": {},
   "outputs": [],
   "source": [
    "card_data_df = spark.read.format(\"csv\").options(inferSchema=\"true\",header=\"true\")\\\n",
    ".load(\"/C:/Users/vedant.mahale/Pyspark/Transaction_project/cards_data.csv\")"
   ]
  },
  {
   "cell_type": "code",
   "execution_count": 26,
   "id": "f267c6a2-a7dd-4ad5-8207-23140f7bede3",
   "metadata": {},
   "outputs": [
    {
     "name": "stdout",
     "output_type": "stream",
     "text": [
      "root\n",
      " |-- id: integer (nullable = true)\n",
      " |-- client_id: integer (nullable = true)\n",
      " |-- card_brand: string (nullable = true)\n",
      " |-- card_type: string (nullable = true)\n",
      " |-- card_number: long (nullable = true)\n",
      " |-- expires: string (nullable = true)\n",
      " |-- cvv: integer (nullable = true)\n",
      " |-- has_chip: string (nullable = true)\n",
      " |-- num_cards_issued: integer (nullable = true)\n",
      " |-- credit_limit: string (nullable = true)\n",
      " |-- acct_open_date: string (nullable = true)\n",
      " |-- year_pin_last_changed: integer (nullable = true)\n",
      " |-- card_on_dark_web: string (nullable = true)\n",
      "\n"
     ]
    }
   ],
   "source": [
    "card_data_df= card_data_df.withColumn(\"expires\",regexp_replace(\"expires\",\"[/]\",'-'))\\\n",
    "                    .withColumn(\"acct_open_date\",regexp_replace(\"acct_open_date\",\"[/]\",'-'))\n",
    "\n",
    "card_data_df.printSchema()"
   ]
  },
  {
   "cell_type": "code",
   "execution_count": 27,
   "id": "b9057c29-1027-495d-90dc-20db27644a6c",
   "metadata": {},
   "outputs": [],
   "source": [
    "#Convert credit_limit to a numeric type (e.g., DoubleType) for numerical analysis.\n",
    "#Ensure acct_open_date and expires are in DateType for easier date calculations.\n",
    "card_data_df = card_data_df.withColumn(\"expires\",to_date(\"expires\",\"MM-yyyy\"))\\\n",
    "                                .withColumn(\"acct_open_date\",to_date(\"acct_open_date\",\"MM-yyyy\"))\\\n",
    "                                    .withColumn(\"year_pin_last_changed\",col(\"year_pin_last_changed\").cast(\"string\"))\\\n",
    "                                        .withColumn(\"year_pin_last_changed\",to_date(\"year_pin_last_changed\"))\\\n",
    "                                        .withColumn(\"credit_limit\",regexp_replace(\"credit_limit\",\"[$]\",'').cast(\"double\"))\n",
    "                                        \n"
   ]
  },
  {
   "cell_type": "code",
   "execution_count": 28,
   "id": "bb696a7e-611f-4095-b507-86b5e35c76dd",
   "metadata": {},
   "outputs": [],
   "source": [
    "## Date Calculations:"
   ]
  },
  {
   "cell_type": "code",
   "execution_count": 29,
   "id": "617b49f1-4c13-4b88-a9a2-ac8e8cf81065",
   "metadata": {},
   "outputs": [],
   "source": [
    "#Derive the account_age in years from acct_open_date and current date.\n",
    "\n",
    "card_data_df = card_data_df.withColumn(\"current_date\",current_date())\n",
    "\n",
    "card_data_df = card_data_df.withColumn(\"account_age\",(months_between(col(\"current_date\"),col(\"acct_open_date\"))/12).cast(\"int\"))\n"
   ]
  },
  {
   "cell_type": "code",
   "execution_count": 30,
   "id": "9d412301-3c3d-4969-9f45-f71e48f2b90c",
   "metadata": {},
   "outputs": [],
   "source": [
    "#Calculate years_since_pin_change using year_pin_last_changed.\n",
    "\n",
    "card_data_df = card_data_df.withColumn(\"years_since_pin_change\",(months_between(col(\"current_date\"),col(\"year_pin_last_changed\"))/12).cast(\"int\"))\n"
   ]
  },
  {
   "cell_type": "markdown",
   "id": "6da1bb39-93b5-4add-8816-f252326c4769",
   "metadata": {},
   "source": [
    "#### Standardize Columns for Joining:\n"
   ]
  },
  {
   "cell_type": "code",
   "execution_count": 32,
   "id": "4a394548-6941-45d6-95f9-132473e50df2",
   "metadata": {},
   "outputs": [
    {
     "name": "stdout",
     "output_type": "stream",
     "text": [
      "root\n",
      " |-- id: integer (nullable = true)\n",
      " |-- client_id: integer (nullable = true)\n",
      " |-- card_brand: string (nullable = true)\n",
      " |-- card_type: string (nullable = true)\n",
      " |-- card_number: long (nullable = true)\n",
      " |-- expires: date (nullable = true)\n",
      " |-- cvv: integer (nullable = true)\n",
      " |-- has_chip: string (nullable = true)\n",
      " |-- num_cards_issued: integer (nullable = true)\n",
      " |-- credit_limit: double (nullable = true)\n",
      " |-- acct_open_date: date (nullable = true)\n",
      " |-- year_pin_last_changed: date (nullable = true)\n",
      " |-- card_on_dark_web: string (nullable = true)\n",
      " |-- current_date: date (nullable = false)\n",
      " |-- account_age: integer (nullable = true)\n",
      " |-- years_since_pin_change: integer (nullable = true)\n",
      "\n"
     ]
    }
   ],
   "source": [
    "#Ensure client_id and id have consistent data types and formats across tables for joins.\n",
    "card_data_df.printSchema()"
   ]
  },
  {
   "cell_type": "markdown",
   "id": "828a9d7e-6541-464d-8a24-e7d2c9178604",
   "metadata": {},
   "source": [
    "#### Categorize Card Details:"
   ]
  },
  {
   "cell_type": "code",
   "execution_count": 34,
   "id": "dd043a73-c61b-4f84-88bb-8f35eb3d9a24",
   "metadata": {
    "scrolled": true
   },
   "outputs": [
    {
     "name": "stdout",
     "output_type": "stream",
     "text": [
      "+---------------+----------+--------+\n",
      "|      card_type|card_brand| Average|\n",
      "+---------------+----------+--------+\n",
      "|Debit (Prepaid)|Mastercard|   64.78|\n",
      "|         Credit|      Visa|11295.56|\n",
      "|         Credit|  Discover|10816.27|\n",
      "|          Debit|      Visa|19019.62|\n",
      "|Debit (Prepaid)|      Visa|    63.8|\n",
      "|         Credit|Mastercard|10971.65|\n",
      "|          Debit|Mastercard|18279.71|\n",
      "|         Credit|      Amex|11436.32|\n",
      "+---------------+----------+--------+\n",
      "\n"
     ]
    }
   ],
   "source": [
    "#the average credit limit for each combination of card type and card brand?\n",
    "\n",
    "grouped_df= card_data_df.groupBy(col(\"card_type\"),col(\"card_brand\")).agg(round(avg(\"credit_limit\"),2).alias(\"Average\"))\n",
    "grouped_df.show()\n"
   ]
  },
  {
   "cell_type": "code",
   "execution_count": 35,
   "id": "82508b84-3d62-4f1a-a148-883e01cb9aa6",
   "metadata": {},
   "outputs": [
    {
     "name": "stdout",
     "output_type": "stream",
     "text": [
      "+---------------+------------------+----------+-------------------+\n",
      "|      card_type|card_type_category|card_brand|card_brand_category|\n",
      "+---------------+------------------+----------+-------------------+\n",
      "|          Debit|        Debit Card|      Visa|               Visa|\n",
      "|          Debit|        Debit Card|      Visa|               Visa|\n",
      "|          Debit|        Debit Card|      Visa|               Visa|\n",
      "|         Credit|       Credit Card|      Visa|               Visa|\n",
      "|Debit (Prepaid)|        Debit Card|Mastercard|         Mastercard|\n",
      "|         Credit|       Credit Card|      Visa|               Visa|\n",
      "|          Debit|        Debit Card|      Visa|               Visa|\n",
      "|          Debit|        Debit Card|Mastercard|         Mastercard|\n",
      "|Debit (Prepaid)|        Debit Card|Mastercard|         Mastercard|\n",
      "|Debit (Prepaid)|        Debit Card|Mastercard|         Mastercard|\n",
      "|          Debit|        Debit Card|Mastercard|         Mastercard|\n",
      "|          Debit|        Debit Card|Mastercard|         Mastercard|\n",
      "|          Debit|        Debit Card|Mastercard|         Mastercard|\n",
      "|          Debit|        Debit Card|      Visa|               Visa|\n",
      "|          Debit|        Debit Card|Mastercard|         Mastercard|\n",
      "|         Credit|       Credit Card|      Visa|               Visa|\n",
      "|Debit (Prepaid)|        Debit Card|Mastercard|         Mastercard|\n",
      "|          Debit|        Debit Card|      Visa|               Visa|\n",
      "|          Debit|        Debit Card|      Visa|               Visa|\n",
      "|          Debit|        Debit Card|Mastercard|         Mastercard|\n",
      "+---------------+------------------+----------+-------------------+\n",
      "only showing top 20 rows\n",
      "\n"
     ]
    }
   ],
   "source": [
    "#Categorize card_type (e.g., \"Credit,\" \"Debit\") and card_brand (e.g., \"Visa,\" \"Mastercard\") into predefined groups.\n",
    "\n",
    "from pyspark.sql import functions as F\n",
    "\n",
    "card_data_df = card_data_df.withColumn(\n",
    "    \"card_type_category\",\n",
    "    F.when(F.col(\"card_type\") == \"Credit\", \"Credit Card\")\n",
    "    .when(F.col(\"card_type\").like(\"Debit%\"), \"Debit Card\")\n",
    "    .otherwise(\"Other\")\n",
    ").withColumn(\n",
    "    \"card_brand_category\",\n",
    "    F.when(F.col(\"card_brand\") == \"Visa\", \"Visa\")\n",
    "    .when(F.col(\"card_brand\") == \"Mastercard\", \"Mastercard\")\n",
    "    .when(F.col(\"card_brand\")== \"Discover\",\"Discover\")\n",
    "    .when(F.col(\"card_brand\")== \"Amex\",\"Amex\")\n",
    "    .otherwise(\"Other Brand\")\n",
    ")\n",
    "\n",
    "\n",
    "card_data_df.select(\"card_type\", \"card_type_category\", \"card_brand\", \"card_brand_category\").show()"
   ]
  },
  {
   "cell_type": "markdown",
   "id": "9ecf7679-91ad-44c1-9bb0-4ee0d97299ef",
   "metadata": {},
   "source": [
    "#### Boolean Conversion:"
   ]
  },
  {
   "cell_type": "code",
   "execution_count": 37,
   "id": "b4778e6e-1f71-4845-8282-a52996485120",
   "metadata": {},
   "outputs": [
    {
     "name": "stdout",
     "output_type": "stream",
     "text": [
      "+--------+----------------+\n",
      "|has_chip|card_on_dark_web|\n",
      "+--------+----------------+\n",
      "|    true|           false|\n",
      "|    true|           false|\n",
      "|    true|           false|\n",
      "|   false|           false|\n",
      "|    true|           false|\n",
      "+--------+----------------+\n",
      "only showing top 5 rows\n",
      "\n"
     ]
    }
   ],
   "source": [
    "#Convert has_chip and card_on_dark_web to booleans (e.g., True/False) for consistency.\n",
    "\n",
    "card_data_df = card_data_df.withColumn(\"has_chip\",col(\"has_chip\").cast(\"boolean\"))\\\n",
    "                            .withColumn(\"card_on_dark_web\",col(\"card_on_dark_web\").cast(\"boolean\"))\n",
    "\n",
    "card_data_df.select(\"has_chip\",\"card_on_dark_web\").show(5)"
   ]
  },
  {
   "cell_type": "code",
   "execution_count": 38,
   "id": "062d0553-5b80-4b7c-a209-69fdf9c265fd",
   "metadata": {
    "scrolled": true
   },
   "outputs": [
    {
     "name": "stdout",
     "output_type": "stream",
     "text": [
      "root\n",
      " |-- id: integer (nullable = true)\n",
      " |-- client_id: integer (nullable = true)\n",
      " |-- card_brand: string (nullable = true)\n",
      " |-- card_type: string (nullable = true)\n",
      " |-- card_number: long (nullable = true)\n",
      " |-- expires: date (nullable = true)\n",
      " |-- cvv: integer (nullable = true)\n",
      " |-- has_chip: boolean (nullable = true)\n",
      " |-- num_cards_issued: integer (nullable = true)\n",
      " |-- credit_limit: double (nullable = true)\n",
      " |-- acct_open_date: date (nullable = true)\n",
      " |-- year_pin_last_changed: date (nullable = true)\n",
      " |-- card_on_dark_web: boolean (nullable = true)\n",
      " |-- current_date: date (nullable = false)\n",
      " |-- account_age: integer (nullable = true)\n",
      " |-- years_since_pin_change: integer (nullable = true)\n",
      " |-- card_type_category: string (nullable = false)\n",
      " |-- card_brand_category: string (nullable = false)\n",
      "\n"
     ]
    }
   ],
   "source": [
    "card_data_df.printSchema()"
   ]
  },
  {
   "cell_type": "markdown",
   "id": "e2c5b3bf-b8e8-431b-820b-eee6275d8aee",
   "metadata": {},
   "source": [
    "#### Validation Of card Number"
   ]
  },
  {
   "cell_type": "code",
   "execution_count": 40,
   "id": "a4d6b8a4-f17d-4e3f-bdc5-37c6e0948e45",
   "metadata": {},
   "outputs": [],
   "source": [
    "#Length of the card_number must be 16 for valid card number \n",
    "#show the card number which has length less than or more than 16 \n",
    "\n",
    "length_df  = card_data_df.withColumn(\"length\",length(\"card_number\"))\n",
    "valid_card = length_df.withColumn(\"length_validation\",when(col(\"length\") == \"16\", \"valid\").otherwise(\"invalid\"))"
   ]
  },
  {
   "cell_type": "code",
   "execution_count": 41,
   "id": "e51365c5-71e8-4516-bf4d-a259d7c6418f",
   "metadata": {},
   "outputs": [
    {
     "data": {
      "text/plain": [
       "6146"
      ]
     },
     "execution_count": 41,
     "metadata": {},
     "output_type": "execute_result"
    }
   ],
   "source": [
    "valid_card.count()\n",
    "\n",
    "\n",
    "#valid_df = card_data_df.withColumn(\"card_number\",)"
   ]
  },
  {
   "cell_type": "code",
   "execution_count": 42,
   "id": "e9da25ba-204e-4d02-ac9c-2eb1683ad769",
   "metadata": {},
   "outputs": [],
   "source": [
    "from pyspark.sql import functions as F\n",
    "\n",
    "# Calculate the length of the card_number column\n",
    "length_df = card_data_df.withColumn(\"length\", F.length(F.col(\"card_number\"))).where(col('length').isin('15'))\n",
    "\n"
   ]
  },
  {
   "cell_type": "code",
   "execution_count": 43,
   "id": "58ee5f6f-35dd-423e-aa0f-3f6d099b55ba",
   "metadata": {},
   "outputs": [
    {
     "name": "stdout",
     "output_type": "stream",
     "text": [
      "+------+\n",
      "|length|\n",
      "+------+\n",
      "|15    |\n",
      "+------+\n",
      "\n"
     ]
    }
   ],
   "source": [
    "length_df.select('length').distinct().show(100,False)"
   ]
  },
  {
   "cell_type": "code",
   "execution_count": 44,
   "id": "5d34a344-3bea-4c2a-86a1-1c805db99867",
   "metadata": {},
   "outputs": [
    {
     "data": {
      "text/plain": [
       "402"
      ]
     },
     "execution_count": 44,
     "metadata": {},
     "output_type": "execute_result"
    }
   ],
   "source": [
    "length_df.count()"
   ]
  },
  {
   "cell_type": "code",
   "execution_count": 45,
   "id": "8eae5033-b2e4-4a2c-b4dc-55f0e3fba16b",
   "metadata": {},
   "outputs": [
    {
     "name": "stdout",
     "output_type": "stream",
     "text": [
      "+----+---------+----------+---------------+----------------+----------+---+--------+----------------+------------+--------------+---------------------+----------------+------------+-----------+----------------------+------------------+-------------------+------+\n",
      "|  id|client_id|card_brand|      card_type|     card_number|   expires|cvv|has_chip|num_cards_issued|credit_limit|acct_open_date|year_pin_last_changed|card_on_dark_web|current_date|account_age|years_since_pin_change|card_type_category|card_brand_category|length|\n",
      "+----+---------+----------+---------------+----------------+----------+---+--------+----------------+------------+--------------+---------------------+----------------+------------+-----------+----------------------+------------------+-------------------+------+\n",
      "|4524|      825|      Visa|          Debit|4344676511950444|2022-12-01|623|    true|               2|     24295.0|    2002-09-01|           2008-01-01|           false|  2024-11-28|         22|                    16|        Debit Card|               Visa|    16|\n",
      "|2731|      825|      Visa|          Debit|4956965974959986|2020-12-01|393|    true|               2|     21968.0|    2014-04-01|           2014-01-01|           false|  2024-11-28|         10|                    10|        Debit Card|               Visa|    16|\n",
      "|3701|      825|      Visa|          Debit|4582313478255491|2024-02-01|719|    true|               2|     46414.0|    2003-07-01|           2004-01-01|           false|  2024-11-28|         21|                    20|        Debit Card|               Visa|    16|\n",
      "|  42|      825|      Visa|         Credit|4879494103069057|2024-08-01|693|   false|               1|     12400.0|    2003-01-01|           2012-01-01|           false|  2024-11-28|         21|                    12|       Credit Card|               Visa|    16|\n",
      "|4659|      825|Mastercard|Debit (Prepaid)|5722874738736011|2009-03-01| 75|    true|               1|        28.0|    2008-09-01|           2009-01-01|           false|  2024-11-28|         16|                    15|        Debit Card|         Mastercard|    16|\n",
      "|4537|     1746|      Visa|         Credit|4404898874682993|2003-09-01|736|    true|               1|     27500.0|    2003-09-01|           2012-01-01|           false|  2024-11-28|         21|                    12|       Credit Card|               Visa|    16|\n",
      "|1278|     1746|      Visa|          Debit|4001482973848631|2022-07-01|972|    true|               2|     28508.0|    2011-02-01|           2011-01-01|           false|  2024-11-28|         13|                    13|        Debit Card|               Visa|    16|\n",
      "|3687|     1746|Mastercard|          Debit|5627220683410948|2022-06-01| 48|    true|               2|      9022.0|    2003-07-01|           2015-01-01|           false|  2024-11-28|         21|                     9|        Debit Card|         Mastercard|    16|\n",
      "|3465|     1746|Mastercard|Debit (Prepaid)|5711382187309326|2020-11-01|722|    true|               2|        54.0|    2010-06-01|           2015-01-01|           false|  2024-11-28|         14|                     9|        Debit Card|         Mastercard|    16|\n",
      "|3754|     1746|Mastercard|Debit (Prepaid)|5766121508358701|2023-02-01|908|    true|               1|        99.0|    2006-07-01|           2012-01-01|           false|  2024-11-28|         18|                    12|        Debit Card|         Mastercard|    16|\n",
      "|5144|     1718|Mastercard|          Debit|5495199163052054|2022-03-01|677|    true|               2|     31599.0|    2009-10-01|           2009-01-01|           false|  2024-11-28|         15|                    15|        Debit Card|         Mastercard|    16|\n",
      "|2029|     1718|Mastercard|          Debit|5804499644308599|2023-07-01|258|   false|               2|     27480.0|    2002-03-01|           2008-01-01|           false|  2024-11-28|         22|                    16|        Debit Card|         Mastercard|    16|\n",
      "|2379|     1718|Mastercard|          Debit|5766352389579834|2020-02-01|992|    true|               1|     26743.0|    2019-03-01|           2019-01-01|           false|  2024-11-28|          5|                     5|        Debit Card|         Mastercard|    16|\n",
      "|2732|     1718|      Visa|          Debit|4242015583697294|2020-06-01|928|    true|               1|     31463.0|    2014-04-01|           2014-01-01|           false|  2024-11-28|         10|                    10|        Debit Card|               Visa|    16|\n",
      "|4706|     1718|Mastercard|          Debit|5191030913182493|2024-06-01|360|    true|               1|     16055.0|    2009-09-01|           2009-01-01|           false|  2024-11-28|         15|                    15|        Debit Card|         Mastercard|    16|\n",
      "| 281|      708|      Visa|         Credit|4017261190134817|2015-05-01|877|    true|               2|     98100.0|    2011-01-01|           2011-01-01|           false|  2024-11-28|         13|                    13|       Credit Card|               Visa|    16|\n",
      "|1106|      708|Mastercard|Debit (Prepaid)|5581970288727991|2020-06-01|448|    true|               1|        62.0|    2007-02-01|           2007-01-01|           false|  2024-11-28|         17|                    17|        Debit Card|         Mastercard|    16|\n",
      "|5621|      708|      Visa|          Debit|4032240655674503|2022-06-01| 53|    true|               1|    132439.0|    2010-11-01|           2011-01-01|           false|  2024-11-28|         14|                    13|        Debit Card|               Visa|    16|\n",
      "|5165|      708|      Visa|          Debit|4935974646456357|2020-06-01|649|    true|               1|    125723.0|    2009-10-01|           2010-01-01|           false|  2024-11-28|         15|                    14|        Debit Card|               Visa|    16|\n",
      "|5757|     1164|Mastercard|          Debit|5905027855347659|2022-01-01|886|    true|               1|     34900.0|    1999-12-01|           2012-01-01|           false|  2024-11-28|         24|                    12|        Debit Card|         Mastercard|    16|\n",
      "+----+---------+----------+---------------+----------------+----------+---+--------+----------------+------------+--------------+---------------------+----------------+------------+-----------+----------------------+------------------+-------------------+------+\n",
      "only showing top 20 rows\n",
      "\n"
     ]
    }
   ],
   "source": [
    "card_data_df.withColumn(\"length\",length(\"card_number\")).show()"
   ]
  },
  {
   "cell_type": "code",
   "execution_count": 46,
   "id": "6948c74e-1a19-4250-a187-ff846bd6fac3",
   "metadata": {},
   "outputs": [],
   "source": [
    "card_data_df = card_data_df.withColumnRenamed(\"id\",\"card_id\")"
   ]
  },
  {
   "cell_type": "markdown",
   "id": "d0fafa64-e8a2-45b9-98ae-3b29d0624aa8",
   "metadata": {},
   "source": [
    "## Transaction Data transformation"
   ]
  },
  {
   "cell_type": "code",
   "execution_count": 48,
   "id": "e25d696e-60c0-4bb7-8563-f11d1ba79999",
   "metadata": {},
   "outputs": [],
   "source": [
    "transaction_df = spark.read.format(\"csv\").options(inferSchema=\"true\",header=\"true\")\\\n",
    ".load(\"/C:/Users/vedant.mahale/Pyspark/Transaction_project/transactions_data.csv\")"
   ]
  },
  {
   "cell_type": "markdown",
   "id": "4c9477f8-6558-407d-a2a2-0c4a3ad55b83",
   "metadata": {},
   "source": [
    "#### Data Type Conversion:\n"
   ]
  },
  {
   "cell_type": "code",
   "execution_count": 50,
   "id": "bce59e20-db74-4dfc-9757-0679e0967395",
   "metadata": {},
   "outputs": [
    {
     "name": "stdout",
     "output_type": "stream",
     "text": [
      "root\n",
      " |-- id: integer (nullable = true)\n",
      " |-- date: timestamp (nullable = true)\n",
      " |-- client_id: integer (nullable = true)\n",
      " |-- card_id: integer (nullable = true)\n",
      " |-- amount: string (nullable = true)\n",
      " |-- use_chip: string (nullable = true)\n",
      " |-- merchant_id: integer (nullable = true)\n",
      " |-- merchant_city: string (nullable = true)\n",
      " |-- merchant_state: string (nullable = true)\n",
      " |-- zip: double (nullable = true)\n",
      " |-- mcc: integer (nullable = true)\n",
      " |-- errors: string (nullable = true)\n",
      "\n"
     ]
    }
   ],
   "source": [
    "transaction_df.printSchema()"
   ]
  },
  {
   "cell_type": "code",
   "execution_count": 51,
   "id": "a949df8b-a911-425c-833e-cbde4b77b0d2",
   "metadata": {},
   "outputs": [],
   "source": [
    "#Convert amount to DoubleType for numerical operations.\n",
    "#Convert use_chip and errors to a standardized format (e.g., \"Yes/No\" or Boolean).\n",
    "transaction_df = transaction_df.withColumn(\"amount\",regexp_replace(\"amount\",\"[$,-]\",'').cast(\"double\"))\\\n",
    "                                    .withColumn(\"zip\",col(\"zip\").cast(\"integer\"))\\\n",
    "                                        .withColumn(\"use_card\",when(col(\"use_chip\") == \"Swipe Transaction\",\"true\").otherwise(\"false\").cast(\"boolean\"))\\\n",
    "                                            .withColumn(\"use_online\",when(col(\"use_chip\") == \"Online Transaction\",\"true\").otherwise(\"false\").cast(\"boolean\"))\n"
   ]
  },
  {
   "cell_type": "markdown",
   "id": "aa4ca986-dd16-4bc7-9d88-fdd554ae5060",
   "metadata": {},
   "source": [
    "#### Date and Time Features:\n"
   ]
  },
  {
   "cell_type": "code",
   "execution_count": 53,
   "id": "e6546a37-a7b1-4a85-946c-339486249316",
   "metadata": {},
   "outputs": [],
   "source": [
    "#Extract date components (day, month, year) from date for time-based analysis.\n",
    "transaction_df = transaction_df.withColumn(\"year\",year(\"date\"))\\\n",
    "                                .withColumn(\"month\",month(\"date\"))\\\n",
    "                                    .withColumn(\"day\",day(\"date\"))\n",
    "\n",
    "\n",
    "#Calculate hour_of_day to understand transaction timing patterns.\n",
    "#Calculate transaction_date to understand transaction date patterns.\n",
    "\n",
    "transaction_df = transaction_df.withColumn(\"hour_of_day\",date_format(\"date\", \"HH:mm:ss\"))\\\n",
    "                                .withColumn(\"transaction_date\", to_date(col(\"date\")))\n"
   ]
  },
  {
   "cell_type": "markdown",
   "id": "eafafbfb-cf21-4889-9646-53acda952ec3",
   "metadata": {},
   "source": [
    "#### Standardize Location Data:"
   ]
  },
  {
   "cell_type": "code",
   "execution_count": 55,
   "id": "d6c10424-c6c3-4062-8ec9-2bdc4923ce70",
   "metadata": {},
   "outputs": [],
   "source": [
    "#Ensure consistent formatting for merchant_city, merchant_state, and zip (e.g., uppercase city/state, string format for zip).\n",
    "\n",
    "\n",
    "transaction_df = transaction_df.withColumn(\"zip\",col(\"zip\").cast(\"string\"))\\\n",
    "                                .withColumn(\"merchant_city\",upper(col(\"merchant_city\")))\\\n",
    "                                .withColumn(\"merchant_state\",upper(col(\"merchant_state\")))\n"
   ]
  },
  {
   "cell_type": "markdown",
   "id": "3512a6d8-70d8-481c-a071-ed6f5749fe30",
   "metadata": {},
   "source": [
    "#### Merchant Category Code (MCC) Grouping:\n"
   ]
  },
  {
   "cell_type": "code",
   "execution_count": 57,
   "id": "3c0e296d-441b-4205-b0cf-ffe84dff848e",
   "metadata": {},
   "outputs": [],
   "source": [
    "#Map mcc to categories like \"Retail,\" \"Travel,\" or \"Food\" to facilitate BI analysis.\n",
    "\n",
    "transaction_df.select(\"mcc\").distinct().count()\n",
    "\n",
    "transaction_df = transaction_df.withColumn(\n",
    "    \"category\",\n",
    "    when(col(\"mcc\").between(5400, 5499), \"Retail\") \\\n",
    "    .when(col(\"mcc\").between(5812, 5814), \"Food\") \\\n",
    "    .when(col(\"mcc\").between(3000, 3299), \"Travel\") \\\n",
    "    .when(col(\"mcc\").between(4814, 4899), \"Telecom\") \\\n",
    "    .otherwise(\"Other\")\n",
    ")"
   ]
  },
  {
   "cell_type": "markdown",
   "id": "9f79189d-dee2-447b-aacb-27b86bf4163a",
   "metadata": {},
   "source": [
    "#### Error Handling:"
   ]
  },
  {
   "cell_type": "code",
   "execution_count": 59,
   "id": "dcf2268c-5e94-4ca0-8ab6-4fbb39a7deb5",
   "metadata": {},
   "outputs": [],
   "source": [
    "#Standardize values in the errors field for easier analysis and reporting.\n",
    "\n",
    "transaction_df = transaction_df.withColumn(\n",
    "    \"errors\",\n",
    "    when(col(\"errors\").isNull(), \"No Error\") \\\n",
    "    .when(col(\"errors\").isin(\"NULL\", \"N/A\", \"NA\", \"null\"), \"No Error\") \\\n",
    "    .when(col(\"errors\").like(\"%timeout%\"), \"Timeout Error\") \\\n",
    "    .when(col(\"errors\").like(\"%decline%\"), \"Transaction Declined\") \\\n",
    "    .when(col(\"errors\").like(\"%invalid%\"), \"Invalid Entry\") \\\n",
    "    .otherwise(col(\"errors\"))\n",
    ")"
   ]
  },
  {
   "cell_type": "code",
   "execution_count": 60,
   "id": "6177dce5-9f67-4758-8187-40c9fe1dfae3",
   "metadata": {},
   "outputs": [
    {
     "name": "stdout",
     "output_type": "stream",
     "text": [
      "+-------+-------------------+---------+-------+------+------------------+-----------+-------------+--------------+-----+----+--------+--------+----------+----+-----+---+-----------+----------------+--------+\n",
      "|     id|               date|client_id|card_id|amount|          use_chip|merchant_id|merchant_city|merchant_state|  zip| mcc|  errors|use_card|use_online|year|month|day|hour_of_day|transaction_date|category|\n",
      "+-------+-------------------+---------+-------+------+------------------+-----------+-------------+--------------+-----+----+--------+--------+----------+----+-----+---+-----------+----------------+--------+\n",
      "|7475327|2010-01-01 00:01:00|     1556|   2972|  77.0| Swipe Transaction|      59935|       BEULAH|            ND|58523|5499|No Error|    true|     false|2010|    1|  1|   00:01:00|      2010-01-01|  Retail|\n",
      "|7475328|2010-01-01 00:02:00|      561|   4575| 14.57| Swipe Transaction|      67570|   BETTENDORF|            IA|52722|5311|No Error|    true|     false|2010|    1|  1|   00:02:00|      2010-01-01|   Other|\n",
      "|7475329|2010-01-01 00:02:00|     1129|    102|  80.0| Swipe Transaction|      27092|        VISTA|            CA|92084|4829|No Error|    true|     false|2010|    1|  1|   00:02:00|      2010-01-01| Telecom|\n",
      "|7475331|2010-01-01 00:05:00|      430|   2860| 200.0| Swipe Transaction|      27092|  CROWN POINT|            IN|46307|4829|No Error|    true|     false|2010|    1|  1|   00:05:00|      2010-01-01| Telecom|\n",
      "|7475332|2010-01-01 00:06:00|      848|   3915| 46.41| Swipe Transaction|      13051|      HARWOOD|            MD|20776|5813|No Error|    true|     false|2010|    1|  1|   00:06:00|      2010-01-01|    Food|\n",
      "|7475333|2010-01-01 00:07:00|     1807|    165|  4.81| Swipe Transaction|      20519|        BRONX|            NY|10464|5942|No Error|    true|     false|2010|    1|  1|   00:07:00|      2010-01-01|   Other|\n",
      "|7475334|2010-01-01 00:09:00|     1556|   2972|  77.0| Swipe Transaction|      59935|       BEULAH|            ND|58523|5499|No Error|    true|     false|2010|    1|  1|   00:09:00|      2010-01-01|  Retail|\n",
      "|7475335|2010-01-01 00:14:00|     1684|   2140| 26.46|Online Transaction|      39021|       ONLINE|          NULL| NULL|4784|No Error|   false|      true|2010|    1|  1|   00:14:00|      2010-01-01|   Other|\n",
      "|7475336|2010-01-01 00:21:00|      335|   5131|261.58|Online Transaction|      50292|       ONLINE|          NULL| NULL|7801|No Error|   false|      true|2010|    1|  1|   00:21:00|      2010-01-01|   Other|\n",
      "|7475337|2010-01-01 00:21:00|      351|   1112| 10.74| Swipe Transaction|       3864|     FLUSHING|            NY|11355|5813|No Error|    true|     false|2010|    1|  1|   00:21:00|      2010-01-01|    Food|\n",
      "+-------+-------------------+---------+-------+------+------------------+-----------+-------------+--------------+-----+----+--------+--------+----------+----+-----+---+-----------+----------------+--------+\n",
      "only showing top 10 rows\n",
      "\n"
     ]
    }
   ],
   "source": [
    "transaction_df.show(10)"
   ]
  },
  {
   "cell_type": "code",
   "execution_count": 61,
   "id": "62da59e6-4203-43fb-89b6-febcdf678e1c",
   "metadata": {},
   "outputs": [],
   "source": [
    "transaction_df = transaction_df.withColumnRenamed(\"id\",\"Transaction_id\")\n",
    "                                            "
   ]
  },
  {
   "cell_type": "markdown",
   "id": "64a71f9d-5987-49b3-9bce-c5659a0437c8",
   "metadata": {},
   "source": [
    "## Final Data Joins"
   ]
  },
  {
   "cell_type": "code",
   "execution_count": 63,
   "id": "ffcab99a-0a23-4b37-8b82-df7e0ec506d2",
   "metadata": {},
   "outputs": [],
   "source": [
    "#user_df.show(10)"
   ]
  },
  {
   "cell_type": "code",
   "execution_count": 64,
   "id": "5331bd10-a17e-465c-be24-983952d6f398",
   "metadata": {},
   "outputs": [],
   "source": [
    "#transaction_df.show(10)"
   ]
  },
  {
   "cell_type": "code",
   "execution_count": 65,
   "id": "a45d15a1-7ffa-401d-a492-4d22ccfbfe67",
   "metadata": {},
   "outputs": [],
   "source": [
    "#card_data_df.show(10)"
   ]
  },
  {
   "cell_type": "code",
   "execution_count": 66,
   "id": "64f53356-ef7f-4ae7-a4dd-35cabc119778",
   "metadata": {},
   "outputs": [],
   "source": [
    "new_df= user_df.join(card_data_df,user_df.user_id == card_data_df.client_id,\"inner\")"
   ]
  },
  {
   "cell_type": "code",
   "execution_count": 67,
   "id": "a15f9638-d826-4347-909d-25554323c560",
   "metadata": {},
   "outputs": [],
   "source": [
    "new2_df = new_df.join(transaction_df,new_df.client_id == transaction_df.client_id,\"inner\")"
   ]
  },
  {
   "cell_type": "code",
   "execution_count": 68,
   "id": "13934a18-efe3-4e5b-b2c2-9d20e2449fe9",
   "metadata": {},
   "outputs": [],
   "source": [
    "nov_df = new2_df"
   ]
  },
  {
   "cell_type": "code",
   "execution_count": 69,
   "id": "5fefc765-52d0-4f0a-a642-876c86d4e376",
   "metadata": {},
   "outputs": [
    {
     "name": "stdout",
     "output_type": "stream",
     "text": [
      "root\n",
      " |-- user_id: integer (nullable = true)\n",
      " |-- retirement_age: integer (nullable = true)\n",
      " |-- birth_year: integer (nullable = true)\n",
      " |-- birth_month: integer (nullable = true)\n",
      " |-- gender: string (nullable = true)\n",
      " |-- address: string (nullable = true)\n",
      " |-- latitude: double (nullable = true)\n",
      " |-- longitude: double (nullable = true)\n",
      " |-- per_capita_income: double (nullable = true)\n",
      " |-- yearly_income: double (nullable = true)\n",
      " |-- total_debt: double (nullable = true)\n",
      " |-- credit_score: integer (nullable = true)\n",
      " |-- num_credit_cards: integer (nullable = true)\n",
      " |-- birth_date: date (nullable = true)\n",
      " |-- current_date: date (nullable = false)\n",
      " |-- current_new_age: integer (nullable = true)\n",
      " |-- dept_to_income_ration: double (nullable = true)\n",
      " |-- credit_score_indicator: string (nullable = false)\n",
      " |-- card_id: integer (nullable = true)\n",
      " |-- client_id: integer (nullable = true)\n",
      " |-- card_brand: string (nullable = true)\n",
      " |-- card_type: string (nullable = true)\n",
      " |-- card_number: long (nullable = true)\n",
      " |-- expires: date (nullable = true)\n",
      " |-- cvv: integer (nullable = true)\n",
      " |-- has_chip: boolean (nullable = true)\n",
      " |-- num_cards_issued: integer (nullable = true)\n",
      " |-- credit_limit: double (nullable = true)\n",
      " |-- acct_open_date: date (nullable = true)\n",
      " |-- year_pin_last_changed: date (nullable = true)\n",
      " |-- card_on_dark_web: boolean (nullable = true)\n",
      " |-- current_date: date (nullable = false)\n",
      " |-- account_age: integer (nullable = true)\n",
      " |-- years_since_pin_change: integer (nullable = true)\n",
      " |-- card_type_category: string (nullable = false)\n",
      " |-- card_brand_category: string (nullable = false)\n",
      " |-- Transaction_id: integer (nullable = true)\n",
      " |-- date: timestamp (nullable = true)\n",
      " |-- client_id: integer (nullable = true)\n",
      " |-- card_id: integer (nullable = true)\n",
      " |-- amount: double (nullable = true)\n",
      " |-- use_chip: string (nullable = true)\n",
      " |-- merchant_id: integer (nullable = true)\n",
      " |-- merchant_city: string (nullable = true)\n",
      " |-- merchant_state: string (nullable = true)\n",
      " |-- zip: string (nullable = true)\n",
      " |-- mcc: integer (nullable = true)\n",
      " |-- errors: string (nullable = true)\n",
      " |-- use_card: boolean (nullable = true)\n",
      " |-- use_online: boolean (nullable = true)\n",
      " |-- year: integer (nullable = true)\n",
      " |-- month: integer (nullable = true)\n",
      " |-- day: integer (nullable = true)\n",
      " |-- hour_of_day: string (nullable = true)\n",
      " |-- transaction_date: date (nullable = true)\n",
      " |-- category: string (nullable = false)\n",
      "\n"
     ]
    }
   ],
   "source": [
    "nov_df.printSchema()"
   ]
  },
  {
   "cell_type": "code",
   "execution_count": null,
   "id": "47012211-39de-4498-bf71-20fcb8a7bbdf",
   "metadata": {},
   "outputs": [],
   "source": []
  },
  {
   "cell_type": "markdown",
   "id": "1dca890a-6bde-434a-9afe-cd8255b7bcd7",
   "metadata": {},
   "source": [
    "## Extra Transformations "
   ]
  },
  {
   "cell_type": "code",
   "execution_count": 71,
   "id": "8bc4b05b-4717-499c-8f9c-b8724ea6a3da",
   "metadata": {},
   "outputs": [
    {
     "data": {
      "text/plain": [
       "['user_id',\n",
       " 'retirement_age',\n",
       " 'birth_year',\n",
       " 'birth_month',\n",
       " 'gender',\n",
       " 'address',\n",
       " 'latitude',\n",
       " 'longitude',\n",
       " 'per_capita_income',\n",
       " 'yearly_income',\n",
       " 'total_debt',\n",
       " 'credit_score',\n",
       " 'num_credit_cards',\n",
       " 'birth_date',\n",
       " 'current_date',\n",
       " 'current_new_age',\n",
       " 'dept_to_income_ration',\n",
       " 'credit_score_indicator',\n",
       " 'card_id',\n",
       " 'client_id',\n",
       " 'card_brand',\n",
       " 'card_type',\n",
       " 'card_number',\n",
       " 'expires',\n",
       " 'cvv',\n",
       " 'has_chip',\n",
       " 'num_cards_issued',\n",
       " 'credit_limit',\n",
       " 'acct_open_date',\n",
       " 'year_pin_last_changed',\n",
       " 'card_on_dark_web',\n",
       " 'current_date',\n",
       " 'account_age',\n",
       " 'years_since_pin_change',\n",
       " 'card_type_category',\n",
       " 'card_brand_category',\n",
       " 'Transaction_id',\n",
       " 'date',\n",
       " 'client_id',\n",
       " 'card_id',\n",
       " 'amount',\n",
       " 'use_chip',\n",
       " 'merchant_id',\n",
       " 'merchant_city',\n",
       " 'merchant_state',\n",
       " 'zip',\n",
       " 'mcc',\n",
       " 'errors',\n",
       " 'use_card',\n",
       " 'use_online',\n",
       " 'year',\n",
       " 'month',\n",
       " 'day',\n",
       " 'hour_of_day',\n",
       " 'transaction_date',\n",
       " 'category']"
      ]
     },
     "execution_count": 71,
     "metadata": {},
     "output_type": "execute_result"
    }
   ],
   "source": [
    "nov_df.columns"
   ]
  },
  {
   "cell_type": "code",
   "execution_count": 72,
   "id": "889c5d5f-ac6e-4957-b25a-654c243c876b",
   "metadata": {},
   "outputs": [
    {
     "name": "stdout",
     "output_type": "stream",
     "text": [
      "+-------+----+--------------------------+----+\n",
      "|user_id|year|Highest_transaction_amount|Rank|\n",
      "+-------+----+--------------------------+----+\n",
      "|     96|2010|                1508300.36|   1|\n",
      "|    989|2011|                1503995.36|   1|\n",
      "|     96|2012|                1391703.68|   1|\n",
      "|     96|2013|                1449674.72|   1|\n",
      "|     96|2014|                 1425183.2|   1|\n",
      "|     96|2015|                 1481565.2|   1|\n",
      "|    989|2016|                1539328.48|   1|\n",
      "|     96|2017|                1466096.76|   1|\n",
      "|     96|2018|                1479878.48|   1|\n",
      "|    989|2019|                1190375.52|   1|\n",
      "+-------+----+--------------------------+----+\n",
      "\n"
     ]
    }
   ],
   "source": [
    "#Client with Highest Transaction in Each Year\n",
    "\n",
    "df = nov_df.select(\"user_id\",\"amount\",\"year\")\n",
    "df = df.groupBy(\"user_id\",\"year\").agg(round(sum(\"amount\"),2).alias(\"Highest_transaction_amount\"))\n",
    "#df.orderBy(col(\"year\").asc(),col(\"Highest_transaction_amount\").desc()).show(10)\n",
    "\n",
    "window= Window.partitionBy(\"year\").orderBy(col(\"Highest_transaction_amount\").desc())\n",
    "df2 = df.withColumn(\"Rank\",row_number().over(window))\n",
    "df2.filter(col(\"Rank\")==1).show(10)\n",
    "\n"
   ]
  },
  {
   "cell_type": "code",
   "execution_count": 73,
   "id": "dfd9aad8-e9f2-4fe8-a17d-2ce8c4a0138b",
   "metadata": {},
   "outputs": [
    {
     "name": "stdout",
     "output_type": "stream",
     "text": [
      "+----------+--------------+\n",
      "|month_year|total_acc_open|\n",
      "+----------+--------------+\n",
      "|   2019-10|         72023|\n",
      "+----------+--------------+\n",
      "\n"
     ]
    }
   ],
   "source": [
    "#Particular Month Account Openings \n",
    "\n",
    "df = nov_df.withColumn(\"month_year\",substring(col(\"acct_open_date\"),1,7)) #.select(\"month_year\")\n",
    "df = df.groupBy(\"month_year\").agg(count(\"user_id\").alias(\"total_acc_open\")).orderBy(col(\"month_year\").desc())\n",
    "df.filter(col(\"month_year\")==\"2019-10\").show()\n",
    "\n"
   ]
  },
  {
   "cell_type": "code",
   "execution_count": 74,
   "id": "f21a60ee-30f2-4c07-b1cf-be7f62452d59",
   "metadata": {},
   "outputs": [
    {
     "name": "stdout",
     "output_type": "stream",
     "text": [
      "+----------+--------+\n",
      "|month_year|Count_id|\n",
      "+----------+--------+\n",
      "|   2019-10|  450229|\n",
      "|   2019-09|  439462|\n",
      "|   2019-08|  455248|\n",
      "|   2019-07|  455871|\n",
      "|   2019-06|  440146|\n",
      "|   2019-05|  452169|\n",
      "|   2019-04|  436867|\n",
      "|   2019-03|  453093|\n",
      "|   2019-02|  407520|\n",
      "|   2019-01|  453283|\n",
      "|   2018-12|  453382|\n",
      "|   2018-11|  439771|\n",
      "|   2018-10|  451221|\n",
      "|   2018-09|  439704|\n",
      "|   2018-08|  455483|\n",
      "|   2018-07|  454649|\n",
      "|   2018-06|  439727|\n",
      "|   2018-05|  452438|\n",
      "|   2018-04|  439674|\n",
      "|   2018-03|  454486|\n",
      "+----------+--------+\n",
      "only showing top 20 rows\n",
      "\n"
     ]
    }
   ],
   "source": [
    "#Monthly Transaction Count\n",
    "montly_df = nov_df.withColumn(\"month_year\",substring(col(\"date\"),1,7))\n",
    "montly_df.groupBy(\"month_year\").agg(count(col(\"Transaction_id\")).alias(\"Count_id\")).orderBy(col(\"month_year\").desc()).show()\n"
   ]
  },
  {
   "cell_type": "code",
   "execution_count": 75,
   "id": "9f848333-3217-4ca1-9366-6afa63e387a3",
   "metadata": {},
   "outputs": [
    {
     "name": "stdout",
     "output_type": "stream",
     "text": [
      "+----------------+--------+\n",
      "|transaction_date|Count_id|\n",
      "+----------------+--------+\n",
      "|      2019-10-31|   15247|\n",
      "|      2019-10-30|   13829|\n",
      "|      2019-10-29|   13698|\n",
      "|      2019-10-28|   15099|\n",
      "|      2019-10-27|   14897|\n",
      "|      2019-10-26|   14591|\n",
      "|      2019-10-25|   14773|\n",
      "|      2019-10-24|   14810|\n",
      "|      2019-10-23|   14118|\n",
      "|      2019-10-22|   13270|\n",
      "|      2019-10-21|   15581|\n",
      "|      2019-10-20|   14683|\n",
      "|      2019-10-19|   15092|\n",
      "|      2019-10-18|   15213|\n",
      "|      2019-10-17|   15042|\n",
      "|      2019-10-16|   13479|\n",
      "|      2019-10-15|   13343|\n",
      "|      2019-10-14|   14906|\n",
      "|      2019-10-13|   14999|\n",
      "|      2019-10-12|   14867|\n",
      "+----------------+--------+\n",
      "only showing top 20 rows\n",
      "\n"
     ]
    }
   ],
   "source": [
    "#daily Transaction Count \n",
    "daily_df = nov_df.groupBy(\"transaction_date\").agg(count(col(\"Transaction_id\")).alias(\"Count_id\")).orderBy(col(\"transaction_date\").desc())\n",
    "daily_df.show()"
   ]
  },
  {
   "cell_type": "code",
   "execution_count": 76,
   "id": "c46825c7-b6b5-4e42-b1f0-271591192491",
   "metadata": {
    "scrolled": true
   },
   "outputs": [
    {
     "name": "stdout",
     "output_type": "stream",
     "text": [
      "+----------------+--------+\n",
      "|transaction_date|Count_id|\n",
      "+----------------+--------+\n",
      "|      2019-10-25|   14773|\n",
      "|      2019-10-24|   14810|\n",
      "|      2019-10-23|   14118|\n",
      "|      2019-10-22|   13270|\n",
      "|      2019-10-21|   15581|\n",
      "|      2019-10-20|   14683|\n",
      "|      2019-10-19|   15092|\n",
      "|      2019-10-18|   15213|\n",
      "|      2019-10-17|   15042|\n",
      "|      2019-10-16|   13479|\n",
      "|      2019-10-15|   13343|\n",
      "|      2019-10-14|   14906|\n",
      "|      2019-10-13|   14999|\n",
      "|      2019-10-12|   14867|\n",
      "+----------------+--------+\n",
      "\n"
     ]
    }
   ],
   "source": [
    "#transaction Count Between Days \n",
    "daily_df.filter(col(\"transaction_date\").between(\"2019-10-12\",\"2019-10-25\")).show()"
   ]
  },
  {
   "cell_type": "code",
   "execution_count": 77,
   "id": "194ce35b-758a-47d6-b47c-794099ec1b48",
   "metadata": {},
   "outputs": [
    {
     "name": "stdout",
     "output_type": "stream",
     "text": [
      "+-----------+----+-------------+\n",
      "|merchant_id|year|Total_revenue|\n",
      "+-----------+----+-------------+\n",
      "|          1|2012|      1013.18|\n",
      "|          2|2010|       204.96|\n",
      "|          2|2011|       223.36|\n",
      "|          2|2019|       376.67|\n",
      "|          3|2012|        85.08|\n",
      "|          5|2012|      1313.12|\n",
      "|          5|2011|         98.1|\n",
      "|          9|2012|      2774.17|\n",
      "|          9|2010|       121.95|\n",
      "|          9|2015|       133.17|\n",
      "|          9|2016|       196.17|\n",
      "|          9|2017|       127.43|\n",
      "|          9|2018|       240.35|\n",
      "|         13|2013|         24.5|\n",
      "|         13|2018|        124.8|\n",
      "|         14|2011|        29.12|\n",
      "|         15|2011|      1500.56|\n",
      "|         15|2012|      1485.04|\n",
      "|         15|2010|       429.32|\n",
      "|         15|2015|      1821.96|\n",
      "+-----------+----+-------------+\n",
      "only showing top 20 rows\n",
      "\n"
     ]
    }
   ],
   "source": [
    "#Merchant Id Wise Revenue\n",
    "\n",
    "nov_df.groupBy(\"merchant_id\",\"year\").agg(round(sum(\"amount\"),2).alias(\"Total_revenue\")).orderBy(col(\"merchant_id\")).show()"
   ]
  },
  {
   "cell_type": "code",
   "execution_count": 78,
   "id": "7b6f9c08-b97d-4620-8e3d-f38a8b201e18",
   "metadata": {},
   "outputs": [
    {
     "name": "stdout",
     "output_type": "stream",
     "text": [
      "+--------+----+--------------+\n",
      "|category|year| Total_revenue|\n",
      "+--------+----+--------------+\n",
      "|  Travel|2010|    7423365.02|\n",
      "|   Other|2010|1.6893800475E8|\n",
      "|    Food|2010| 1.689452057E7|\n",
      "| Telecom|2010| 3.051385605E7|\n",
      "|  Retail|2010| 3.637477308E7|\n",
      "|  Travel|2011|    7145030.15|\n",
      "| Telecom|2011|  3.15155385E7|\n",
      "|   Other|2011|1.7112061716E8|\n",
      "|  Retail|2011| 3.728629274E7|\n",
      "|    Food|2011| 1.738275669E7|\n",
      "|  Retail|2012| 3.783195203E7|\n",
      "|  Travel|2012|    7132030.59|\n",
      "|   Other|2012|1.7400034132E8|\n",
      "|    Food|2012| 1.789362537E7|\n",
      "| Telecom|2012| 3.168730334E7|\n",
      "| Telecom|2013| 3.208716206E7|\n",
      "|  Travel|2013|    7257157.46|\n",
      "|    Food|2013| 1.808092338E7|\n",
      "|   Other|2013|1.7790051201E8|\n",
      "|  Retail|2013| 3.867796867E7|\n",
      "+--------+----+--------------+\n",
      "only showing top 20 rows\n",
      "\n"
     ]
    }
   ],
   "source": [
    "#Categories wise revenue\n",
    "nov_df.groupBy(\"category\",\"year\").agg(round(sum(\"amount\"),2).alias(\"Total_revenue\")).orderBy(col(\"year\")).show()"
   ]
  },
  {
   "cell_type": "code",
   "execution_count": 79,
   "id": "ea5ce6b9-e35f-491d-bed2-438a471f5c80",
   "metadata": {},
   "outputs": [
    {
     "name": "stdout",
     "output_type": "stream",
     "text": [
      "+-------+-------------------+\n",
      "|user_id|Highest_transaction|\n",
      "+-------+-------------------+\n",
      "|     96|       1.42338442E7|\n",
      "|    989|      1.307669176E7|\n",
      "|    840|      1.261612116E7|\n",
      "|    909|       1.23498848E7|\n",
      "|   1098|      1.215156904E7|\n",
      "|   1340|      1.084565615E7|\n",
      "|   1727|      1.072271472E7|\n",
      "|   1811|        1.0407798E7|\n",
      "+-------+-------------------+\n",
      "\n"
     ]
    }
   ],
   "source": [
    "#transaction More than 1.037786502E7 Amount Customers ID \n",
    "\n",
    "df = nov_df.groupBy(\"user_id\").agg(round(sum(\"amount\"),2).alias(\"Highest_transaction\")).orderBy(col(\"Highest_transaction\").desc())\n",
    "df.filter(col(\"Highest_transaction\") > 1.037786502E7).show()"
   ]
  },
  {
   "cell_type": "code",
   "execution_count": null,
   "id": "5bbea753-6158-4530-8986-903c107d4e44",
   "metadata": {},
   "outputs": [],
   "source": []
  },
  {
   "cell_type": "code",
   "execution_count": 80,
   "id": "7f861722-a283-4e8b-bcb1-413a4c877f4c",
   "metadata": {},
   "outputs": [
    {
     "name": "stdout",
     "output_type": "stream",
     "text": [
      "root\n",
      " |-- user_id: integer (nullable = true)\n",
      " |-- retirement_age: integer (nullable = true)\n",
      " |-- birth_year: integer (nullable = true)\n",
      " |-- birth_month: integer (nullable = true)\n",
      " |-- gender: string (nullable = true)\n",
      " |-- address: string (nullable = true)\n",
      " |-- latitude: double (nullable = true)\n",
      " |-- longitude: double (nullable = true)\n",
      " |-- per_capita_income: double (nullable = true)\n",
      " |-- yearly_income: double (nullable = true)\n",
      " |-- total_debt: double (nullable = true)\n",
      " |-- credit_score: integer (nullable = true)\n",
      " |-- num_credit_cards: integer (nullable = true)\n",
      " |-- birth_date: date (nullable = true)\n",
      " |-- current_date: date (nullable = false)\n",
      " |-- current_new_age: integer (nullable = true)\n",
      " |-- dept_to_income_ration: double (nullable = true)\n",
      " |-- credit_score_indicator: string (nullable = false)\n",
      " |-- card_id: integer (nullable = true)\n",
      " |-- client_id: integer (nullable = true)\n",
      " |-- card_brand: string (nullable = true)\n",
      " |-- card_type: string (nullable = true)\n",
      " |-- card_number: long (nullable = true)\n",
      " |-- expires: date (nullable = true)\n",
      " |-- cvv: integer (nullable = true)\n",
      " |-- has_chip: boolean (nullable = true)\n",
      " |-- num_cards_issued: integer (nullable = true)\n",
      " |-- credit_limit: double (nullable = true)\n",
      " |-- acct_open_date: date (nullable = true)\n",
      " |-- year_pin_last_changed: date (nullable = true)\n",
      " |-- card_on_dark_web: boolean (nullable = true)\n",
      " |-- current_date: date (nullable = false)\n",
      " |-- account_age: integer (nullable = true)\n",
      " |-- years_since_pin_change: integer (nullable = true)\n",
      " |-- card_type_category: string (nullable = false)\n",
      " |-- card_brand_category: string (nullable = false)\n",
      " |-- Transaction_id: integer (nullable = true)\n",
      " |-- date: timestamp (nullable = true)\n",
      " |-- client_id: integer (nullable = true)\n",
      " |-- card_id: integer (nullable = true)\n",
      " |-- amount: double (nullable = true)\n",
      " |-- use_chip: string (nullable = true)\n",
      " |-- merchant_id: integer (nullable = true)\n",
      " |-- merchant_city: string (nullable = true)\n",
      " |-- merchant_state: string (nullable = true)\n",
      " |-- zip: string (nullable = true)\n",
      " |-- mcc: integer (nullable = true)\n",
      " |-- errors: string (nullable = true)\n",
      " |-- use_card: boolean (nullable = true)\n",
      " |-- use_online: boolean (nullable = true)\n",
      " |-- year: integer (nullable = true)\n",
      " |-- month: integer (nullable = true)\n",
      " |-- day: integer (nullable = true)\n",
      " |-- hour_of_day: string (nullable = true)\n",
      " |-- transaction_date: date (nullable = true)\n",
      " |-- category: string (nullable = false)\n",
      "\n"
     ]
    }
   ],
   "source": [
    "new2_df.printSchema()"
   ]
  },
  {
   "cell_type": "code",
   "execution_count": 81,
   "id": "0379f3d7-9954-43e4-a101-03eab04e7b1e",
   "metadata": {},
   "outputs": [],
   "source": [
    "new2_df=new2_df.drop(\"current_date\")\n",
    "new2_df=new2_df.drop(\"client_id\")\n",
    "new2_df = df.withColumn(\"current_date\",date_format(current_date(), \"yyyy-MM-dd\"))"
   ]
  },
  {
   "cell_type": "code",
   "execution_count": 82,
   "id": "4f58538a-f699-45e6-9766-5d52f39c2f68",
   "metadata": {},
   "outputs": [
    {
     "data": {
      "text/plain": [
       "DataFrame[user_id: int, retirement_age: int, birth_year: int, birth_month: int, gender: string, address: string, latitude: double, longitude: double, per_capita_income: double, yearly_income: double, total_debt: double, credit_score: int, num_credit_cards: int, birth_date: date, current_date: date, current_new_age: int, dept_to_income_ration: double, credit_score_indicator: string, card_id: int, client_id: int, card_brand: string, card_type: string, card_number: bigint, expires: date, cvv: int, has_chip: boolean, num_cards_issued: int, credit_limit: double, acct_open_date: date, year_pin_last_changed: date, card_on_dark_web: boolean, current_date: date, account_age: int, years_since_pin_change: int, card_type_category: string, card_brand_category: string, Transaction_id: int, date: timestamp, client_id: int, card_id: int, amount: double, use_chip: string, merchant_id: int, merchant_city: string, merchant_state: string, zip: string, mcc: int, errors: string, use_card: boolean, use_online: boolean, year: int, month: int, day: int, hour_of_day: string, transaction_date: date, category: string]"
      ]
     },
     "execution_count": 82,
     "metadata": {},
     "output_type": "execute_result"
    }
   ],
   "source": [
    "nov_df"
   ]
  },
  {
   "cell_type": "code",
   "execution_count": null,
   "id": "b2f33286-9db2-4ab3-a0c2-8fb1799228ba",
   "metadata": {},
   "outputs": [],
   "source": [
    "nov_df.show(10)"
   ]
  },
  {
   "cell_type": "code",
   "execution_count": null,
   "id": "083540db-6beb-4f02-a394-6d0fc624dabd",
   "metadata": {},
   "outputs": [],
   "source": [
    "from pyspark.sql import functions as f"
   ]
  },
  {
   "cell_type": "code",
   "execution_count": null,
   "id": "45e292c5-1749-42f6-aeb0-69c0e1a243aa",
   "metadata": {},
   "outputs": [],
   "source": [
    "\n",
    "#range0 = f.beetween(\"2001-01-01\", \"2001-31-01\")\n",
    "\n",
    "range0 = (col(\"transaction_date\")>\"2010-01-01\") & (col(\"transaction_date\")<\"2010-12-31\")\n",
    "range1 = (col(\"transaction_date\")>\"2011-01-01\") & (col(\"transaction_date\")<\"2011-12-31\")\n",
    "range3 = (col(\"transaction_date\")== \"2012-01-01\")\n",
    "\n",
    "data1 = nov_df.withColumn(\"Range_bucket\",when(range0,\">2010-01-01 to <2010-12-31\").when(range1,\">2011-01-01 to <2011-12-31\").when(range3,\"==2012-01-01\"))"
   ]
  },
  {
   "cell_type": "code",
   "execution_count": null,
   "id": "beb6c327-4468-4c08-9659-16a8dddd7f6b",
   "metadata": {},
   "outputs": [],
   "source": []
  },
  {
   "cell_type": "markdown",
   "id": "2ecbbb93-e588-4a1d-9818-193148fdfa50",
   "metadata": {},
   "source": [
    "## Exporting the Final Data For BI Team "
   ]
  },
  {
   "cell_type": "code",
   "execution_count": null,
   "id": "a7a221f5-8060-48f9-ae61-67b64aefefb9",
   "metadata": {},
   "outputs": [],
   "source": [
    "nov_df_2 = nov_df_1.withColumn(\"current_date\",date_format(current_date(), \"yyyy-MM-dd\"))"
   ]
  },
  {
   "cell_type": "code",
   "execution_count": null,
   "id": "cb747f55-b359-4e07-9c67-517e38b8935c",
   "metadata": {},
   "outputs": [],
   "source": [
    "nov_df_2"
   ]
  },
  {
   "cell_type": "code",
   "execution_count": null,
   "id": "10c62d6b-d4f2-4f78-963e-e2ea916760df",
   "metadata": {
    "scrolled": true
   },
   "outputs": [],
   "source": [
    "#nov_df_2.write.csv(\"C:/Users/vedant.mahale/Downloads/final_data.csv\",header=True)\n",
    "#nov_df_2.coalesce(1).write.parquet(\"/user/spark/vedant/transaction_project/\")\n"
   ]
  },
  {
   "cell_type": "code",
   "execution_count": null,
   "id": "9b27841d-4aef-4ce7-bbad-85a784396f71",
   "metadata": {},
   "outputs": [],
   "source": []
  },
  {
   "cell_type": "code",
   "execution_count": null,
   "id": "6664a89d-8624-407c-af73-90f78a686fcd",
   "metadata": {},
   "outputs": [],
   "source": []
  }
 ],
 "metadata": {
  "kernelspec": {
   "display_name": "PYSPARK_KERNEL",
   "language": "python",
   "name": "pyspark_kernel"
  },
  "language_info": {
   "codemirror_mode": {
    "name": "ipython",
    "version": 3
   },
   "file_extension": ".py",
   "mimetype": "text/x-python",
   "name": "python",
   "nbconvert_exporter": "python",
   "pygments_lexer": "ipython3",
   "version": "3.12.7"
  }
 },
 "nbformat": 4,
 "nbformat_minor": 5
}
